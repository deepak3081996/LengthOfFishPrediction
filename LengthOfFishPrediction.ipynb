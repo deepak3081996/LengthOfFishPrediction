{
 "cells": [
  {
   "cell_type": "markdown",
   "metadata": {},
   "source": [
    "# Importing the datasets"
   ]
  },
  {
   "cell_type": "code",
   "execution_count": 1,
   "metadata": {
    "collapsed": true
   },
   "outputs": [],
   "source": [
    "import bs4 as bs\n",
    "import urllib.request\n",
    "import numpy as np\n",
    "import pandas as pd\n",
    "import matplotlib.pyplot as plt"
   ]
  },
  {
   "cell_type": "markdown",
   "metadata": {},
   "source": [
    "# Fetching the data\n",
    "## Reading data from the source url"
   ]
  },
  {
   "cell_type": "code",
   "execution_count": 2,
   "metadata": {
    "collapsed": true
   },
   "outputs": [],
   "source": [
    "source = urllib.request.urlopen(r'https://people.sc.fsu.edu/~jburkardt/datasets/regression/x06.txt').read()\n",
    "\n",
    "soup = bs.BeautifulSoup(source, 'lxml')\n",
    "\n",
    "lines = soup.p.contents[0].split('\\n')"
   ]
  },
  {
   "cell_type": "markdown",
   "metadata": {},
   "source": [
    "# Removing the empty lines from the fetched data"
   ]
  },
  {
   "cell_type": "code",
   "execution_count": 3,
   "metadata": {
    "collapsed": true
   },
   "outputs": [],
   "source": [
    "try:\n",
    "    for line in lines[-1::-1]:\n",
    "        if line == '':\n",
    "            lines.pop()\n",
    "except:\n",
    "    pass"
   ]
  },
  {
   "cell_type": "markdown",
   "metadata": {},
   "source": [
    "# Creating the dataset"
   ]
  },
  {
   "cell_type": "code",
   "execution_count": 4,
   "metadata": {},
   "outputs": [
    {
     "name": "stdout",
     "output_type": "stream",
     "text": [
      "#  x06.txt\n",
      "#\n",
      "#  Reference:\n",
      "#\n",
      "#    R J Freund and P D Minton,\n",
      "#    Regression Methods,\n",
      "#    Dekker, 1979, page 111.\n",
      "#\n",
      "#    Helmut Spaeth,\n",
      "#    Mathematical Algorithms for Linear Regression,\n",
      "#    Academic Press, 1991, page 305,\n",
      "#    ISBN 0-12-656460-4.\n",
      "#\n",
      "#  Discussion:\n",
      "#\n",
      "#    The length of a species of fish is to be represented as a function\n",
      "#    of the age and water temperature.  The fish are kept in tanks\n",
      "#    at 25, 27, 29 and 31 degrees Celsius.  After birth, a test specimen\n",
      "#    is chosen at random every 14 days and its length measured.\n",
      "#\n",
      "#    There are 44 rows of data.  The data include:\n",
      "#\n",
      "#      I,  the index;\n",
      "#      A1, the age of the fish;\n",
      "#      A2, the water temperature in degrees Celsius;\n",
      "#      B,  the length of the fish.\n",
      "#\n",
      "#    We seek a model of the form:\n",
      "#\n",
      "#      B = A1 * X1 + A2 * X2\n",
      "#\n"
     ]
    }
   ],
   "source": [
    "l1 = []\n",
    "noOfColumns = 0\n",
    "noOfRows = 0\n",
    "for line in lines:\n",
    "  \n",
    "    if line[0] == '#':    # avoiding all the lines stating with '#' character\n",
    "        print(line)\n",
    "        continue\n",
    "\n",
    "    if line[0] != '#' and (noOfColumns==0 or noOfRows==0):    # fetching the number of rows and columns\n",
    "        datalist = line.split(' ')\n",
    "\n",
    "        if datalist[1] == 'columns':\n",
    "            noOfColumns = int(datalist[0])\n",
    "            col = 0\n",
    "\n",
    "        elif datalist[1] == 'rows':\n",
    "            noOfRows = int(datalist[0])\n",
    "            row = 0\n",
    "\n",
    "    elif line[0] != '#' and noOfColumns>0 and noOfRows>0:    # fetfching all the rows and columns in 1-dimentional array as a list\n",
    "        datalist = line.strip().split()\n",
    "\n",
    "        if col<noOfColumns:\n",
    "            l1.append(' '.join(datalist))\n",
    "            col += 1\n",
    "\n",
    "        elif row<noOfRows:\n",
    "            l1 += datalist\n",
    "            row += 1\n",
    "            \n",
    "dataset = np.array([l1]).reshape((noOfRows+1,noOfColumns))    # Creating the dataset from the of shape(rows, columns) from the 1-D array with the coumns headers\n"
   ]
  },
  {
   "cell_type": "markdown",
   "metadata": {},
   "source": [
    "## Printing the Dataset"
   ]
  },
  {
   "cell_type": "code",
   "execution_count": 5,
   "metadata": {},
   "outputs": [
    {
     "name": "stdout",
     "output_type": "stream",
     "text": [
      "[['Index' 'Age of fish (days)' 'Temperature of water (degrees Celsius)'\n",
      "  'Length of fish']\n",
      " ['1' '14' '25' '620']\n",
      " ['2' '28' '25' '1315']\n",
      " ['3' '41' '25' '2120']\n",
      " ['4' '55' '25' '2600']\n",
      " ['5' '69' '25' '3110']\n",
      " ['6' '83' '25' '3535']\n",
      " ['7' '97' '25' '3935']\n",
      " ['8' '111' '25' '4465']\n",
      " ['9' '125' '25' '4530']\n",
      " ['10' '139' '25' '4570']\n",
      " ['11' '153' '25' '4600']\n",
      " ['12' '14' '27' '625']\n",
      " ['13' '28' '27' '1215']\n",
      " ['14' '41' '27' '2110']\n",
      " ['15' '55' '27' '2805']\n",
      " ['16' '69' '27' '3255']\n",
      " ['17' '83' '27' '4015']\n",
      " ['18' '97' '27' '4315']\n",
      " ['19' '111' '27' '4495']\n",
      " ['20' '125' '27' '4535']\n",
      " ['21' '139' '27' '4600']\n",
      " ['22' '153' '27' '4600']\n",
      " ['23' '14' '29' '590']\n",
      " ['24' '28' '29' '1305']\n",
      " ['25' '41' '29' '2140']\n",
      " ['26' '55' '29' '2890']\n",
      " ['27' '69' '29' '3920']\n",
      " ['28' '83' '29' '3920']\n",
      " ['29' '97' '29' '4515']\n",
      " ['30' '111' '29' '4520']\n",
      " ['31' '125' '29' '4525']\n",
      " ['32' '139' '29' '4565']\n",
      " ['33' '153' '29' '4566']\n",
      " ['34' '14' '31' '590']\n",
      " ['35' '28' '31' '1205']\n",
      " ['36' '41' '31' '1915']\n",
      " ['37' '55' '31' '2140']\n",
      " ['38' '69' '31' '2710']\n",
      " ['39' '83' '31' '3020']\n",
      " ['40' '97' '31' '3030']\n",
      " ['41' '111' '31' '3040']\n",
      " ['42' '125' '31' '3180']\n",
      " ['43' '139' '31' '3257']\n",
      " ['44' '153' '31' '3214']]\n"
     ]
    }
   ],
   "source": [
    "print(dataset)"
   ]
  },
  {
   "cell_type": "markdown",
   "metadata": {},
   "source": [
    "# Pre-processing of data\n",
    "## creating a pandas dataframe"
   ]
  },
  {
   "cell_type": "code",
   "execution_count": 6,
   "metadata": {
    "collapsed": true
   },
   "outputs": [],
   "source": [
    "df = pd.DataFrame(data=dataset[1:,1:],    # selecting all the rows and columns starting from 1st index location i.e. 2nd row and 2nd column as the data\n",
    "                 index=dataset[1:,0],     # 1st column of the dataset is the index and the rows starting from 1st index location\n",
    "                 columns=dataset[0,1:],   # ist row of the dataset is the column names it's the 0th row of the dataset\n",
    "                 dtype = 'float64')"
   ]
  },
  {
   "cell_type": "markdown",
   "metadata": {},
   "source": [
    "## let's have a look at the dataframe"
   ]
  },
  {
   "cell_type": "code",
   "execution_count": 7,
   "metadata": {},
   "outputs": [
    {
     "name": "stdout",
     "output_type": "stream",
     "text": [
      "    Age of fish (days)  Temperature of water (degrees Celsius)  Length of fish\n",
      "1                 14.0                                    25.0           620.0\n",
      "2                 28.0                                    25.0          1315.0\n",
      "3                 41.0                                    25.0          2120.0\n",
      "4                 55.0                                    25.0          2600.0\n",
      "5                 69.0                                    25.0          3110.0\n",
      "6                 83.0                                    25.0          3535.0\n",
      "7                 97.0                                    25.0          3935.0\n",
      "8                111.0                                    25.0          4465.0\n",
      "9                125.0                                    25.0          4530.0\n",
      "10               139.0                                    25.0          4570.0\n",
      "11               153.0                                    25.0          4600.0\n",
      "12                14.0                                    27.0           625.0\n",
      "13                28.0                                    27.0          1215.0\n",
      "14                41.0                                    27.0          2110.0\n",
      "15                55.0                                    27.0          2805.0\n",
      "16                69.0                                    27.0          3255.0\n",
      "17                83.0                                    27.0          4015.0\n",
      "18                97.0                                    27.0          4315.0\n",
      "19               111.0                                    27.0          4495.0\n",
      "20               125.0                                    27.0          4535.0\n",
      "21               139.0                                    27.0          4600.0\n",
      "22               153.0                                    27.0          4600.0\n",
      "23                14.0                                    29.0           590.0\n",
      "24                28.0                                    29.0          1305.0\n",
      "25                41.0                                    29.0          2140.0\n",
      "26                55.0                                    29.0          2890.0\n",
      "27                69.0                                    29.0          3920.0\n",
      "28                83.0                                    29.0          3920.0\n",
      "29                97.0                                    29.0          4515.0\n",
      "30               111.0                                    29.0          4520.0\n",
      "31               125.0                                    29.0          4525.0\n",
      "32               139.0                                    29.0          4565.0\n",
      "33               153.0                                    29.0          4566.0\n",
      "34                14.0                                    31.0           590.0\n",
      "35                28.0                                    31.0          1205.0\n",
      "36                41.0                                    31.0          1915.0\n",
      "37                55.0                                    31.0          2140.0\n",
      "38                69.0                                    31.0          2710.0\n",
      "39                83.0                                    31.0          3020.0\n",
      "40                97.0                                    31.0          3030.0\n",
      "41               111.0                                    31.0          3040.0\n",
      "42               125.0                                    31.0          3180.0\n",
      "43               139.0                                    31.0          3257.0\n",
      "44               153.0                                    31.0          3214.0\n"
     ]
    }
   ],
   "source": [
    "print(df)"
   ]
  },
  {
   "cell_type": "markdown",
   "metadata": {},
   "source": [
    "## fetching the Independent Variables and Dependent Variable"
   ]
  },
  {
   "cell_type": "code",
   "execution_count": 8,
   "metadata": {
    "collapsed": true
   },
   "outputs": [],
   "source": [
    "X = df.iloc[:,:2].values\n",
    "y = df.iloc[:,2:].values"
   ]
  },
  {
   "cell_type": "markdown",
   "metadata": {},
   "source": [
    "# splitting the data into training set and testing set"
   ]
  },
  {
   "cell_type": "code",
   "execution_count": 9,
   "metadata": {
    "collapsed": true
   },
   "outputs": [],
   "source": [
    "from sklearn.model_selection import train_test_split\n",
    "X_train, X_test, y_train, y_test = train_test_split(X, y, test_size=0.25, random_state=42)"
   ]
  },
  {
   "cell_type": "markdown",
   "metadata": {
    "collapsed": true
   },
   "source": [
    "# Feature Scalling"
   ]
  },
  {
   "cell_type": "code",
   "execution_count": 10,
   "metadata": {
    "collapsed": true
   },
   "outputs": [],
   "source": [
    "# Feature Scaling\n",
    "from  sklearn.preprocessing import StandardScaler\n",
    "sc_X = StandardScaler()\n",
    "X_train_scaled = sc_X.fit_transform(X_train)\n",
    "X_test_scaled = sc_X.transform(X_test)\n",
    "\n",
    "sc_y = StandardScaler()\n",
    "y_train_scaled = sc_y.fit_transform(y_train)"
   ]
  },
  {
   "cell_type": "markdown",
   "metadata": {},
   "source": [
    "### Since the above data frame contains 2 independent variables therefore the model need to be implemented is multi linear regression\n",
    "#### the equation of mult linear regression is :\n",
    "    y = a0 + a1*x1 + a2*x2 + ..... +an*xn\n",
    "#### the model required in the above the dataset seek to be in the form of:\n",
    "    y = a1*x1 + a2*x2\n",
    "#### thereby multi linear regression model hold the above required\n",
    "\n",
    "# Fitting the Multi Linear Regression model to the dataset"
   ]
  },
  {
   "cell_type": "code",
   "execution_count": 11,
   "metadata": {},
   "outputs": [
    {
     "data": {
      "text/plain": [
       "LinearRegression(copy_X=True, fit_intercept=True, n_jobs=1, normalize=False)"
      ]
     },
     "execution_count": 11,
     "metadata": {},
     "output_type": "execute_result"
    }
   ],
   "source": [
    "from  sklearn.linear_model import LinearRegression\n",
    "linear_regressor = LinearRegression()\n",
    "linear_regressor.fit(X_train_scaled, y_train_scaled)"
   ]
  },
  {
   "cell_type": "markdown",
   "metadata": {},
   "source": [
    "# Predicting the test set results"
   ]
  },
  {
   "cell_type": "code",
   "execution_count": 12,
   "metadata": {
    "collapsed": true
   },
   "outputs": [],
   "source": [
    "y_pred = linear_regressor.predict(X_test_scaled)"
   ]
  },
  {
   "cell_type": "code",
   "execution_count": 13,
   "metadata": {},
   "outputs": [
    {
     "name": "stdout",
     "output_type": "stream",
     "text": [
      "[[ 2398.45358914]\n",
      " [ 1879.04148755]\n",
      " [ 2248.05168898]\n",
      " [ 2029.44338771]\n",
      " [ 1317.78085638]\n",
      " [ 3505.48419344]\n",
      " [ 3054.27849294]\n",
      " [ 1754.99745891]\n",
      " [ 4530.31929866]\n",
      " [ 2685.26829151]\n",
      " [ 3792.2988958 ]]\n"
     ]
    }
   ],
   "source": [
    "print(sc_y.inverse_transform(y_pred))"
   ]
  },
  {
   "cell_type": "code",
   "execution_count": 14,
   "metadata": {},
   "outputs": [
    {
     "name": "stdout",
     "output_type": "stream",
     "text": [
      "[[ 2710.]\n",
      " [ 2140.]\n",
      " [ 2890.]\n",
      " [ 2140.]\n",
      " [ 1205.]\n",
      " [ 3040.]\n",
      " [ 3110.]\n",
      " [ 1215.]\n",
      " [ 4530.]\n",
      " [ 2600.]\n",
      " [ 3935.]]\n"
     ]
    }
   ],
   "source": [
    "print(y_test)"
   ]
  },
  {
   "cell_type": "code",
   "execution_count": 15,
   "metadata": {},
   "outputs": [
    {
     "name": "stdout",
     "output_type": "stream",
     "text": [
      "0.888861308694\n",
      "247.934777889\n",
      "103746.590582\n"
     ]
    }
   ],
   "source": [
    "from sklearn.metrics import r2_score, mean_absolute_error, mean_squared_error, accuracy_score\n",
    "print(r2_score(y_test, sc_y.inverse_transform(y_pred)))\n",
    "print(mean_absolute_error(y_test, sc_y.inverse_transform(y_pred)))\n",
    "print(mean_squared_error(y_test, sc_y.inverse_transform(y_pred)))"
   ]
  },
  {
   "cell_type": "markdown",
   "metadata": {},
   "source": [
    "# Visualising the results\n",
    "## Visualising the training set results"
   ]
  },
  {
   "cell_type": "code",
   "execution_count": 17,
   "metadata": {},
   "outputs": [
    {
     "data": {
      "image/png": "[encoded data removed]",
      "text/plain": [
       "<matplotlib.figure.Figure at 0x28d4bf4bcc0>"
      ]
     },
     "metadata": {},
     "output_type": "display_data"
    }
   ],
   "source": [
    "plt.scatter(X_train[:,0], y_train, color='red')\n",
    "plt.plot(X_train[:,0], sc_y.inverse_transform(linear_regressor.predict(X_train_scaled)), color='blue')\n",
    "plt.title('Age of fish vs length of fish (training set)')\n",
    "plt.xlabel('{}'.format(df.columns[0]))\n",
    "plt.ylabel('{}'.format(df.columns[-1]))\n",
    "plt.show()"
   ]
  },
  {
   "cell_type": "markdown",
   "metadata": {},
   "source": [
    "## Visualizing the test set results "
   ]
  },
  {
   "cell_type": "code",
   "execution_count": 18,
   "metadata": {},
   "outputs": [
    {
     "data": {
      "image/png": "[encoded data removed]",
      "text/plain": [
       "<matplotlib.figure.Figure at 0x28d4c18dc88>"
      ]
     },
     "metadata": {},
     "output_type": "display_data"
    }
   ],
   "source": [
    "plt.scatter(X_test[:,0], y_test, color='red')\n",
    "plt.scatter(X_test[:,0], sc_y.inverse_transform(y_pred), color='blue')\n",
    "plt.plot(X_train[:,0], sc_y.inverse_transform(linear_regressor.predict(X_train_scaled)), color='blue')\n",
    "plt.title('Age of fish vs length of fish (test set)')\n",
    "plt.xlabel('{}'.format(df.columns[0]))\n",
    "plt.ylabel('{}'.format(df.columns[-1]))\n",
    "plt.show()"
   ]
  }
 ],
 "metadata": {
  "kernelspec": {
   "display_name": "Python 3",
   "language": "python",
   "name": "python3"
  },
  "language_info": {
   "codemirror_mode": {
    "name": "ipython",
    "version": 3
   },
   "file_extension": ".py",
   "mimetype": "text/x-python",
   "name": "python",
   "nbconvert_exporter": "python",
   "pygments_lexer": "ipython3",
   "version": "3.5.3"
  }
 },
 "nbformat": 4,
 "nbformat_minor": 2
}
